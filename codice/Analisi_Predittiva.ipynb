{
 "cells": [
  {
   "cell_type": "code",
   "execution_count": 3,
   "metadata": {},
   "outputs": [
    {
     "name": "stderr",
     "output_type": "stream",
     "text": [
      "Using TensorFlow backend.\n"
     ]
    }
   ],
   "source": [
    "from keras.applications.imagenet_utils import decode_predictions\n",
    "from keras.applications import inception_v3\n",
    "from keras.preprocessing.image import load_img\n",
    "from keras.preprocessing.image import img_to_array\n",
    "from matplotlib import pyplot as plt\n",
    "from matplotlib.pyplot import imshow\n",
    "import numpy as np\n",
    "import math\n",
    "import glob\n",
    "from PIL import Image\n"
   ]
  },
  {
   "cell_type": "code",
   "execution_count": 17,
   "metadata": {},
   "outputs": [],
   "source": [
    "images = []\n",
    "imodel = inception_v3.InceptionV3(weights='imagenet')\n",
    "for file in glob.glob('img/*.jpg'):\n",
    "    img = load_img(file, target_size=(299, 299))\n",
    "    numpy_image = img_to_array(img)\n",
    "    image_batch = np.expand_dims(numpy_image, axis=0)\n",
    "    processed_image = inception_v3.preprocess_input(image_batch.copy())\n",
    "    predictions = imodel.predict(processed_image)\n",
    "    label = decode_predictions(predictions)\n",
    "    images.append(label)"
   ]
  },
  {
   "cell_type": "code",
   "execution_count": 6,
   "metadata": {
    "scrolled": false
   },
   "outputs": [
    {
     "name": "stdout",
     "output_type": "stream",
     "text": [
      "[[[('n04228054', 'ski', 0.07556888), ('n03425413', 'gas_pump', 0.06668205), ('n03662601', 'lifeboat', 0.042928692), ('n03384352', 'forklift', 0.040784005), ('n02966687', \"carpenter's_kit\", 0.0322768)]], [[('n03425413', 'gas_pump', 0.4760827), ('n03032252', 'cinema', 0.18571566), ('n02977058', 'cash_machine', 0.03933277), ('n06874185', 'traffic_light', 0.03550076), ('n03982430', 'pool_table', 0.030363312)]], [[('n03459775', 'grille', 0.51086026), ('n04285008', 'sports_car', 0.09403146), ('n03271574', 'electric_fan', 0.021558167), ('n03127747', 'crash_helmet', 0.01486559), ('n03100240', 'convertible', 0.014169187)]], [[('n03602883', 'joystick', 0.97011065), ('n01629819', 'European_fire_salamander', 0.0010214719), ('n04286575', 'spotlight', 0.0007251861), ('n03691459', 'loudspeaker', 0.0005546969), ('n07747607', 'orange', 0.00035507817)]], [[('n04192698', 'shield', 0.102857195), ('n06794110', 'street_sign', 0.10229924), ('n02910353', 'buckle', 0.10128736), ('n03666591', 'lighter', 0.026381271), ('n06359193', 'web_site', 0.024182566)]], [[('n03459775', 'grille', 0.3247956), ('n04285008', 'sports_car', 0.11184335), ('n03100240', 'convertible', 0.10416733), ('n02974003', 'car_wheel', 0.06413332), ('n03110669', 'cornet', 0.028562555)]], [[('n04285008', 'sports_car', 0.80722934), ('n02974003', 'car_wheel', 0.019529818), ('n03100240', 'convertible', 0.015130042), ('n03459775', 'grille', 0.01378154), ('n04037443', 'racer', 0.009961189)]], [[('n03930630', 'pickup', 0.4694393), ('n03770679', 'minivan', 0.10018027), ('n02974003', 'car_wheel', 0.07915905), ('n03459775', 'grille', 0.042995144), ('n02814533', 'beach_wagon', 0.015465487)]], [[('n04037443', 'racer', 0.5923367), ('n03444034', 'go-kart', 0.31062946), ('n03649909', 'lawn_mower', 0.018121017), ('n03496892', 'harvester', 0.0059321686), ('n02974003', 'car_wheel', 0.005815538)]], [[('n03478589', 'half_track', 0.5319522), ('n02910353', 'buckle', 0.030248662), ('n02950826', 'cannon', 0.02562291), ('n04026417', 'purse', 0.02426368), ('n03709823', 'mailbag', 0.012900914)]], [[('n03933933', 'pier', 0.22593662), ('n04347754', 'submarine', 0.08292876), ('n04366367', 'suspension_bridge', 0.027733423), ('n02687172', 'aircraft_carrier', 0.025961507), ('n02917067', 'bullet_train', 0.022845013)]], [[('n03425413', 'gas_pump', 0.7160564), ('n03445924', 'golfcart', 0.05154069), ('n04517823', 'vacuum', 0.027245075), ('n03995372', 'power_drill', 0.020553105), ('n03770679', 'minivan', 0.015578503)]], [[('n02974003', 'car_wheel', 0.67730415), ('n03065424', 'coil', 0.2226804), ('n02797295', 'barrow', 0.007891789), ('n04069434', 'reflex_camera', 0.0067929546), ('n04037443', 'racer', 0.005314404)]], [[('n04153751', 'screw', 0.20306464), ('n04579432', 'whistle', 0.06357587), ('n03109150', 'corkscrew', 0.051236637), ('n03804744', 'nail', 0.03222723), ('n03255030', 'dumbbell', 0.03118935)]], [[('n04162706', 'seat_belt', 0.9882641), ('n03770679', 'minivan', 0.0075250017), ('n03100240', 'convertible', 0.0010990704), ('n03769881', 'minibus', 0.0004326005), ('n03670208', 'limousine', 0.00032700834)]], [[('n02965783', 'car_mirror', 0.9999982), ('n03692522', 'loupe', 7.1258864e-07), ('n02486410', 'baboon', 1.376067e-07), ('n03000134', 'chainlink_fence', 5.511593e-08), ('n04204238', 'shopping_basket', 5.337212e-08)]], [[('n03841143', 'odometer', 0.88884264), ('n04328186', 'stopwatch', 0.002343485), ('n02708093', 'analog_clock', 0.002253946), ('n03075370', 'combination_lock', 0.001935397), ('n03197337', 'digital_watch', 0.0008910586)]], [[('n04467665', 'trailer_truck', 0.21182905), ('n02415577', 'bighorn', 0.08682305), ('n09246464', 'cliff', 0.069638595), ('n09472597', 'volcano', 0.04167008), ('n09193705', 'alp', 0.03083423)]], [[('n02835271', 'bicycle-built-for-two', 0.054595716), ('n02445715', 'skunk', 0.03238423), ('n09193705', 'alp', 0.03236102), ('n03792782', 'mountain_bike', 0.029493904), ('n04509417', 'unicycle', 0.027397826)]], [[('n03459775', 'grille', 0.25884372), ('n06794110', 'street_sign', 0.14034884), ('n02910353', 'buckle', 0.022046989), ('n04328186', 'stopwatch', 0.019642273), ('n03841143', 'odometer', 0.014355623)]], [[('n04392985', 'tape_player', 0.1514445), ('n04179913', 'sewing_machine', 0.08948886), ('n03841143', 'odometer', 0.053587217), ('n04067472', 'reel', 0.04250001), ('n03187595', 'dial_telephone', 0.04057434)]]]\n"
     ]
    }
   ],
   "source": [
    "print(images)"
   ]
  },
  {
   "cell_type": "code",
   "execution_count": 12,
   "metadata": {},
   "outputs": [],
   "source": [
    "import re\n",
    "def clean_word(s):\n",
    "    s = s.lower()\n",
    "    cleanr = re.compile('<.*?>')\n",
    "    s = re.sub(cleanr, ' ', s)\n",
    "    s = re.sub(r'[?|!|\\'|\"|#]',r'',s)\n",
    "    s = re.sub(r'[.|,|_|\\-|)|(|\\|/]',r' ',s)\n",
    "    return s"
   ]
  },
  {
   "cell_type": "code",
   "execution_count": 13,
   "metadata": {},
   "outputs": [
    {
     "name": "stdout",
     "output_type": "stream",
     "text": [
      "[['ski', 'gas pump', 'lifeboat', 'forklift', 'carpenters kit'], ['gas pump', 'cinema', 'cash machine', 'traffic light', 'pool table'], ['grille', 'sports car', 'electric fan', 'crash helmet', 'convertible'], ['joystick', 'european fire salamander', 'spotlight', 'loudspeaker', 'orange'], ['shield', 'street sign', 'buckle', 'lighter', 'web site'], ['grille', 'sports car', 'convertible', 'car wheel', 'cornet'], ['sports car', 'car wheel', 'convertible', 'grille', 'racer'], ['pickup', 'minivan', 'car wheel', 'grille', 'beach wagon'], ['racer', 'go kart', 'lawn mower', 'harvester', 'car wheel'], ['half track', 'buckle', 'cannon', 'purse', 'mailbag'], ['pier', 'submarine', 'suspension bridge', 'aircraft carrier', 'bullet train'], ['gas pump', 'golfcart', 'vacuum', 'power drill', 'minivan'], ['car wheel', 'coil', 'barrow', 'reflex camera', 'racer'], ['screw', 'whistle', 'corkscrew', 'nail', 'dumbbell'], ['seat belt', 'minivan', 'convertible', 'minibus', 'limousine'], ['car mirror', 'loupe', 'baboon', 'chainlink fence', 'shopping basket'], ['odometer', 'stopwatch', 'analog clock', 'combination lock', 'digital watch'], ['trailer truck', 'bighorn', 'cliff', 'volcano', 'alp'], ['bicycle built for two', 'skunk', 'alp', 'mountain bike', 'unicycle'], ['grille', 'street sign', 'buckle', 'stopwatch', 'odometer'], ['tape player', 'sewing machine', 'odometer', 'reel', 'dial telephone']]\n"
     ]
    }
   ],
   "source": [
    "documents = []\n",
    "for img in images:\n",
    "    tags = []\n",
    "    for tupl in img:\n",
    "        for words in tupl:\n",
    "            w = clean_word(words[1])\n",
    "            tags.append(w)\n",
    "    documents.append(tags)\n",
    "print(documents)"
   ]
  },
  {
   "cell_type": "code",
   "execution_count": 14,
   "metadata": {},
   "outputs": [],
   "source": [
    "def create_dict_freq(documents):\n",
    "    dict = {}\n",
    "    for doc in documents:\n",
    "        for word in doc:\n",
    "            if word in dict.keys():\n",
    "                dict[word]+=1\n",
    "            else:\n",
    "                dict[word]=1\n",
    "    return dict"
   ]
  },
  {
   "cell_type": "code",
   "execution_count": 15,
   "metadata": {},
   "outputs": [],
   "source": [
    "freq_dict = create_dict_freq(documents)"
   ]
  },
  {
   "cell_type": "code",
   "execution_count": 19,
   "metadata": {},
   "outputs": [
    {
     "name": "stdout",
     "output_type": "stream",
     "text": [
      "{'ski': 1, 'gas pump': 3, 'lifeboat': 1, 'forklift': 1, 'carpenters kit': 1, 'cinema': 1, 'cash machine': 1, 'traffic light': 1, 'pool table': 1, 'grille': 5, 'sports car': 3, 'electric fan': 1, 'crash helmet': 1, 'convertible': 4, 'joystick': 1, 'european fire salamander': 1, 'spotlight': 1, 'loudspeaker': 1, 'orange': 1, 'shield': 1, 'street sign': 2, 'buckle': 3, 'lighter': 1, 'web site': 1, 'car wheel': 5, 'cornet': 1, 'racer': 3, 'pickup': 1, 'minivan': 3, 'beach wagon': 1, 'go kart': 1, 'lawn mower': 1, 'harvester': 1, 'half track': 1, 'cannon': 1, 'purse': 1, 'mailbag': 1, 'pier': 1, 'submarine': 1, 'suspension bridge': 1, 'aircraft carrier': 1, 'bullet train': 1, 'golfcart': 1, 'vacuum': 1, 'power drill': 1, 'coil': 1, 'barrow': 1, 'reflex camera': 1, 'screw': 1, 'whistle': 1, 'corkscrew': 1, 'nail': 1, 'dumbbell': 1, 'seat belt': 1, 'minibus': 1, 'limousine': 1, 'car mirror': 1, 'loupe': 1, 'baboon': 1, 'chainlink fence': 1, 'shopping basket': 1, 'odometer': 3, 'stopwatch': 2, 'analog clock': 1, 'combination lock': 1, 'digital watch': 1, 'trailer truck': 1, 'bighorn': 1, 'cliff': 1, 'volcano': 1, 'alp': 2, 'bicycle built for two': 1, 'skunk': 1, 'mountain bike': 1, 'unicycle': 1, 'tape player': 1, 'sewing machine': 1, 'reel': 1, 'dial telephone': 1}\n"
     ]
    }
   ],
   "source": [
    "print(freq_dict)"
   ]
  },
  {
   "cell_type": "code",
   "execution_count": 21,
   "metadata": {},
   "outputs": [
    {
     "name": "stdout",
     "output_type": "stream",
     "text": [
      "    aircraft carrier       alp  analog clock    baboon    barrow  beach wagon  \\\n",
      "0           0.000000  0.000000      0.000000  0.000000  0.000000     0.000000   \n",
      "1           0.000000  0.000000      0.000000  0.000000  0.000000     0.000000   \n",
      "2           0.000000  0.000000      0.000000  0.000000  0.000000     0.000000   \n",
      "3           0.000000  0.000000      0.000000  0.000000  0.000000     0.000000   \n",
      "4           0.000000  0.000000      0.000000  0.000000  0.000000     0.000000   \n",
      "5           0.000000  0.000000      0.000000  0.000000  0.000000     0.000000   \n",
      "6           0.000000  0.000000      0.000000  0.000000  0.000000     0.000000   \n",
      "7           0.000000  0.000000      0.000000  0.000000  0.000000     0.530789   \n",
      "8           0.000000  0.000000      0.000000  0.000000  0.000000     0.000000   \n",
      "9           0.000000  0.000000      0.000000  0.000000  0.000000     0.000000   \n",
      "10          0.447214  0.000000      0.000000  0.000000  0.000000     0.000000   \n",
      "11          0.000000  0.000000      0.000000  0.000000  0.000000     0.000000   \n",
      "12          0.000000  0.000000      0.000000  0.000000  0.494376     0.000000   \n",
      "13          0.000000  0.000000      0.000000  0.000000  0.000000     0.000000   \n",
      "14          0.000000  0.000000      0.000000  0.000000  0.000000     0.000000   \n",
      "15          0.000000  0.000000      0.000000  0.447214  0.000000     0.000000   \n",
      "16          0.000000  0.000000      0.476233  0.000000  0.000000     0.000000   \n",
      "17          0.000000  0.402996      0.000000  0.000000  0.000000     0.000000   \n",
      "18          0.000000  0.402996      0.000000  0.000000  0.000000     0.000000   \n",
      "19          0.000000  0.000000      0.000000  0.000000  0.000000     0.000000   \n",
      "20          0.000000  0.000000      0.000000  0.000000  0.000000     0.000000   \n",
      "\n",
      "    bicycle built for two   bighorn    buckle  bullet train  ...  submarine  \\\n",
      "0                0.000000  0.000000  0.000000      0.000000  ...   0.000000   \n",
      "1                0.000000  0.000000  0.000000      0.000000  ...   0.000000   \n",
      "2                0.000000  0.000000  0.000000      0.000000  ...   0.000000   \n",
      "3                0.000000  0.000000  0.000000      0.000000  ...   0.000000   \n",
      "4                0.000000  0.000000  0.379085      0.000000  ...   0.000000   \n",
      "5                0.000000  0.000000  0.000000      0.000000  ...   0.000000   \n",
      "6                0.000000  0.000000  0.000000      0.000000  ...   0.000000   \n",
      "7                0.000000  0.000000  0.000000      0.000000  ...   0.000000   \n",
      "8                0.000000  0.000000  0.000000      0.000000  ...   0.000000   \n",
      "9                0.000000  0.000000  0.369791      0.000000  ...   0.000000   \n",
      "10               0.000000  0.000000  0.000000      0.447214  ...   0.447214   \n",
      "11               0.000000  0.000000  0.000000      0.000000  ...   0.000000   \n",
      "12               0.000000  0.000000  0.000000      0.000000  ...   0.000000   \n",
      "13               0.000000  0.000000  0.000000      0.000000  ...   0.000000   \n",
      "14               0.000000  0.000000  0.000000      0.000000  ...   0.000000   \n",
      "15               0.000000  0.000000  0.000000      0.000000  ...   0.000000   \n",
      "16               0.000000  0.000000  0.000000      0.000000  ...   0.000000   \n",
      "17               0.000000  0.457601  0.000000      0.000000  ...   0.000000   \n",
      "18               0.457601  0.000000  0.000000      0.000000  ...   0.000000   \n",
      "19               0.000000  0.000000  0.439769      0.000000  ...   0.000000   \n",
      "20               0.000000  0.000000  0.000000      0.000000  ...   0.000000   \n",
      "\n",
      "    suspension bridge  tape player  traffic light  trailer truck  unicycle  \\\n",
      "0            0.000000     0.000000       0.000000       0.000000  0.000000   \n",
      "1            0.000000     0.000000       0.464557       0.000000  0.000000   \n",
      "2            0.000000     0.000000       0.000000       0.000000  0.000000   \n",
      "3            0.000000     0.000000       0.000000       0.000000  0.000000   \n",
      "4            0.000000     0.000000       0.000000       0.000000  0.000000   \n",
      "5            0.000000     0.000000       0.000000       0.000000  0.000000   \n",
      "6            0.000000     0.000000       0.000000       0.000000  0.000000   \n",
      "7            0.000000     0.000000       0.000000       0.000000  0.000000   \n",
      "8            0.000000     0.000000       0.000000       0.000000  0.000000   \n",
      "9            0.000000     0.000000       0.000000       0.000000  0.000000   \n",
      "10           0.447214     0.000000       0.000000       0.000000  0.000000   \n",
      "11           0.000000     0.000000       0.000000       0.000000  0.000000   \n",
      "12           0.000000     0.000000       0.000000       0.000000  0.000000   \n",
      "13           0.000000     0.000000       0.000000       0.000000  0.000000   \n",
      "14           0.000000     0.000000       0.000000       0.000000  0.000000   \n",
      "15           0.000000     0.000000       0.000000       0.000000  0.000000   \n",
      "16           0.000000     0.000000       0.000000       0.000000  0.000000   \n",
      "17           0.000000     0.000000       0.000000       0.457601  0.000000   \n",
      "18           0.000000     0.000000       0.000000       0.000000  0.457601   \n",
      "19           0.000000     0.000000       0.000000       0.000000  0.000000   \n",
      "20           0.000000     0.464557       0.000000       0.000000  0.000000   \n",
      "\n",
      "     vacuum   volcano  web site   whistle  \n",
      "0   0.00000  0.000000  0.000000  0.000000  \n",
      "1   0.00000  0.000000  0.000000  0.000000  \n",
      "2   0.00000  0.000000  0.000000  0.000000  \n",
      "3   0.00000  0.000000  0.000000  0.000000  \n",
      "4   0.00000  0.000000  0.476233  0.000000  \n",
      "5   0.00000  0.000000  0.000000  0.000000  \n",
      "6   0.00000  0.000000  0.000000  0.000000  \n",
      "7   0.00000  0.000000  0.000000  0.000000  \n",
      "8   0.00000  0.000000  0.000000  0.000000  \n",
      "9   0.00000  0.000000  0.000000  0.000000  \n",
      "10  0.00000  0.000000  0.000000  0.000000  \n",
      "11  0.48409  0.000000  0.000000  0.000000  \n",
      "12  0.00000  0.000000  0.000000  0.000000  \n",
      "13  0.00000  0.000000  0.000000  0.447214  \n",
      "14  0.00000  0.000000  0.000000  0.000000  \n",
      "15  0.00000  0.000000  0.000000  0.000000  \n",
      "16  0.00000  0.000000  0.000000  0.000000  \n",
      "17  0.00000  0.457601  0.000000  0.000000  \n",
      "18  0.00000  0.000000  0.000000  0.000000  \n",
      "19  0.00000  0.000000  0.000000  0.000000  \n",
      "20  0.00000  0.000000  0.000000  0.000000  \n",
      "\n",
      "[21 rows x 79 columns]\n"
     ]
    }
   ],
   "source": [
    "from sklearn.feature_extraction.text import TfidfVectorizer\n",
    "import pandas as pd\n",
    "\n",
    "vect = TfidfVectorizer(tokenizer=lambda doc: doc, lowercase=False)\n",
    "tfidf_matrix = vect.fit_transform(documents)\n",
    "df = pd.DataFrame(tfidf_matrix.toarray(), columns = vect.get_feature_names())\n",
    "print(df)\n"
   ]
  },
  {
   "cell_type": "code",
   "execution_count": 23,
   "metadata": {},
   "outputs": [],
   "source": [
    "#combinazione delle analisi\n",
    "def top_tfidf_feats(row, features, top_n=5):\n",
    "    topn_ids = np.argsort(row)[::-1][:top_n]\n",
    "    top_feats = [(features[i], row[i], freq_dict[f'{features[i]}']) for i in topn_ids]\n",
    "    df = pd.DataFrame(top_feats)\n",
    "    df.columns = ['feature', 'tfidf', 'freq']\n",
    "    return df"
   ]
  },
  {
   "cell_type": "code",
   "execution_count": 24,
   "metadata": {},
   "outputs": [],
   "source": [
    "def top_feats_in_doc(Xtr, features, row_id, top_n=5):\n",
    "    row = np.squeeze(Xtr[row_id].toarray())\n",
    "    return top_tfidf_feats(row, features, top_n)"
   ]
  },
  {
   "cell_type": "code",
   "execution_count": 26,
   "metadata": {},
   "outputs": [
    {
     "name": "stdout",
     "output_type": "stream",
     "text": [
      "       feature     tfidf  freq\n",
      "0       cornet  0.569544     1\n",
      "1   sports car  0.453361     3\n",
      "2  convertible  0.415958     4\n",
      "3       grille  0.385398     5\n",
      "4    car wheel  0.385398     5\n"
     ]
    }
   ],
   "source": [
    "print(top_feats_in_doc(tfidf_matrix, vect.get_feature_names(),5))"
   ]
  },
  {
   "cell_type": "code",
   "execution_count": null,
   "metadata": {},
   "outputs": [],
   "source": []
  }
 ],
 "metadata": {
  "kernelspec": {
   "display_name": "Python 3",
   "language": "python",
   "name": "python3"
  },
  "language_info": {
   "codemirror_mode": {
    "name": "ipython",
    "version": 3
   },
   "file_extension": ".py",
   "mimetype": "text/x-python",
   "name": "python",
   "nbconvert_exporter": "python",
   "pygments_lexer": "ipython3",
   "version": "3.7.4"
  }
 },
 "nbformat": 4,
 "nbformat_minor": 2
}
